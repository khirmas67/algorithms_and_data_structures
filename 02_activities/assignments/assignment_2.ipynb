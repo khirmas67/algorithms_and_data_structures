{
 "cells": [
  {
   "cell_type": "markdown",
   "metadata": {},
   "source": [
    "# Practice Interview\n",
    "\n",
    "## Objective\n",
    "\n",
    "_*The partner assignment aims to provide participants with the opportunity to practice coding in an interview context. You will analyze your partner's Assignment 1. Moreover, code reviews are common practice in a software development team. This assignment should give you a taste of the code review process.*_\n",
    "\n",
    "## Group Size\n",
    "\n",
    "Each group should have 2 people. You will be assigned a partner\n",
    "\n",
    "## Part 1:\n",
    "\n",
    "You and your partner must share each other's Assignment 1 submission."
   ]
  },
  {
   "cell_type": "markdown",
   "metadata": {},
   "source": [
    "\n",
    "## Part 2:\n",
    "\n",
    "Create a Jupyter Notebook, create 6 of the following headings, and complete the following for your partner's assignment 1:\n",
    "\n",
    "---\n",
    "\n",
    "-   Paraphrase the problem in your own words.\n"
   ]
  },
  {
   "cell_type": "markdown",
   "metadata": {},
   "source": [
    "- Find all the missing numbers in a list which contains integers ranging from 0 to n (maximum valeu).\n",
    "- Identify and return a list of all numbers within this range that are not present in the given list.\n",
    "- If every number in the range [0, n] is present in the list, you should return  -1."
   ]
  },
  {
   "cell_type": "markdown",
   "metadata": {},
   "source": [
    "---"
   ]
  },
  {
   "cell_type": "markdown",
   "metadata": {},
   "source": [
    "\n",
    "-   Create 1 new example that demonstrates you understand the problem. Trace/walkthrough 1 example that your partner made and explain it.\n"
   ]
  },
  {
   "cell_type": "markdown",
   "metadata": {},
   "source": [
    "My Example :\n",
    "- lst = [0, 1, 3, 4]\n",
    "- The Output is [2]\n",
    "- The range is [1 , 4] and  the missing number is 2.\n",
    "\n",
    "Daya's Example :\n",
    "- lst = [1, 2, 3, 4, 5]\n",
    "- The Output is [0]\n",
    "- The range is [0 , 5]. The missing number is 0"
   ]
  },
  {
   "cell_type": "markdown",
   "metadata": {},
   "source": [
    "---"
   ]
  },
  {
   "cell_type": "markdown",
   "metadata": {},
   "source": [
    "\n",
    "-   Copy the solution your partner wrote. \n"
   ]
  },
  {
   "cell_type": "code",
   "execution_count": 6,
   "metadata": {},
   "outputs": [],
   "source": [
    "def missing_numbers(lst):\n",
    "    n = len(lst)\n",
    "    ideal_set = set(range(n + 1))  \n",
    "    lst_set = set(lst)\n",
    "    missing = sorted(list(ideal_set - lst_set))\n",
    "\n",
    "    if not missing:\n",
    "        return -1\n",
    "    \n",
    "    return missing"
   ]
  },
  {
   "cell_type": "markdown",
   "metadata": {},
   "source": [
    "\n",
    "-   Explain why their solution works in your own words.\n"
   ]
  },
  {
   "cell_type": "markdown",
   "metadata": {},
   "source": [
    "- The solution uses Python's set properties to help identify the missing numbers .\n",
    "- The expected numbers are created in 'ideal_set' as a rannge from '0' to the maximum value 'n'.\n",
    "- The input list 'lst' converted to a set to remove duplicates and make searching faster.\n",
    "- The difference between the expected set and the input set yields the missing numbers.\n",
    "- sorted function sort the output in ascending order\n",
    "- If there are no missing numbers '-1' is returned.\n"
   ]
  },
  {
   "cell_type": "markdown",
   "metadata": {},
   "source": [
    "---"
   ]
  },
  {
   "cell_type": "markdown",
   "metadata": {},
   "source": [
    "\n",
    "-   Explain the problem’s time and space complexity in your own words.\n"
   ]
  },
  {
   "cell_type": "markdown",
   "metadata": {},
   "source": [
    "Time complexity: \n",
    "- O(n) for generating the sets and calculating the difference between them.\n",
    "- O(m log m) for ssorting the list of missing numbers, where m is the missing numbers that are less than or equal to n.\n",
    "\n",
    "\n",
    "Space Complexity : The space complexity is space required for each set  which iss O(n).\n",
    "\n",
    "The space complexity of O(n) and the sorting step's O(n log n) time complexity limit the efficiency of the solution for larger datasets.\n"
   ]
  },
  {
   "cell_type": "markdown",
   "metadata": {},
   "source": [
    "---"
   ]
  },
  {
   "cell_type": "markdown",
   "metadata": {},
   "source": [
    "\n",
    "-   Critique your partner's solution, including explanation, and if there is anything that should be adjusted.\n"
   ]
  },
  {
   "cell_type": "markdown",
   "metadata": {},
   "source": [
    "Daya did not explain  the time complexity for ssorting the list of missing numbers, which is O(n log n), and how it affectts the  efficiency of the solution to for large datasets.\n"
   ]
  },
  {
   "cell_type": "markdown",
   "metadata": {},
   "source": [
    "---"
   ]
  },
  {
   "cell_type": "markdown",
   "metadata": {},
   "source": [
    "\n",
    "## Part 3:\n",
    "\n",
    "---\n",
    "\n",
    "Please write a 200 word reflection documenting your process from assignment 1, and your presentation and review experience with your partner at the bottom of the Jupyter Notebook under a new heading \"Reflection.\" Again, export this Notebook as pdf.\n"
   ]
  },
  {
   "cell_type": "markdown",
   "metadata": {},
   "source": [
    "### Reflection"
   ]
  },
  {
   "cell_type": "markdown",
   "metadata": {},
   "source": [
    "Daya's solution for finding missing numbers in a list of integers from 0 to n is a clear and efficient approach. By taking advange of using set properties, the initial solution computes the difference between the ideal range and the input list, and identifying missing numbers in a diresct way. However, the space complexity of O(n) and the sorting step's O(n log n) time complexity limit its efficiency for larger datasets.\n",
    "\n",
    " Daya proposes uses an alternative approch to address these limotationsThis approach takes an advantage of in-place marking. By negating values at indices corresponding to the numbers in the list This approach reduces space complexity to O(1) and achieves a linear time complexity of O(n). This makes it suitable for large datasets..\n",
    "\n",
    "Another alternative solution that uses boolean array can also solve the problem in O(n) time, but with O(n) space complexity. While less space-efficient than in-place marking, it offers a more intuitive approach for some users.\n",
    "\n",
    "In conclusion, Daya's solution highlights the importance of considering both time and space complexity when choosing an algorithm. The in-place marking solution is generally preferred for large datasets due to its optimal space complexity, but the boolean array approach can be a simpler alternative in some cases. Understanding these trade-offs allows for selecting the most appropriate solution for a given problem and dataset size.\n"
   ]
  },
  {
   "cell_type": "markdown",
   "metadata": {},
   "source": [
    "### **pdf file of assignment_2**\n",
    "\n",
    "[assignment_2.pdf](https://github.com/user-attachments/files/17791097/assignment_2.pdf)\n"
   ]
  },
  {
   "cell_type": "markdown",
   "metadata": {},
   "source": [
    "---"
   ]
  },
  {
   "cell_type": "markdown",
   "metadata": {},
   "source": [
    "\n",
    "## Evaluation Criteria\n",
    "\n",
    "We are looking for the similar points as Assignment 1\n",
    "\n",
    "-   Problem is accurately stated\n",
    "\n",
    "-   New example is correct and easily understandable\n",
    "\n",
    "-   Correctness, time, and space complexity of the coding solution\n",
    "\n",
    "-   Clarity in explaining why the solution works, its time and space complexity\n",
    "\n",
    "-   Quality of critique of your partner's assignment, if necessary\n"
   ]
  },
  {
   "cell_type": "markdown",
   "metadata": {},
   "source": [
    "## Submission Information\n",
    "\n",
    "🚨 **Please review our [Assignment Submission Guide](https://github.com/UofT-DSI/onboarding/blob/main/onboarding_documents/submissions.md)** 🚨 for detailed instructions on how to format, branch, and submit your work. Following these guidelines is crucial for your submissions to be evaluated correctly.\n",
    "\n",
    "### Submission Parameters:\n",
    "* Submission Due Date: `HH:MM AM/PM - DD/MM/YYYY`\n",
    "* The branch name for your repo should be: `assignment-2`\n",
    "* What to submit for this assignment:\n",
    "    * This Jupyter Notebook (assignment_2.ipynb) should be populated and should be the only change in your pull request.\n",
    "* What the pull request link should look like for this assignment: `https://github.com/<your_github_username>/algorithms_and_data_structures/pull/<pr_id>`\n",
    "    * Open a private window in your browser. Copy and paste the link to your pull request into the address bar. Make sure you can see your pull request properly. This helps the technical facilitator and learning support staff review your submission easily.\n",
    "\n",
    "Checklist:\n",
    "- [ ] Created a branch with the correct naming convention.\n",
    "- [ ] Ensured that the repository is public.\n",
    "- [ ] Reviewed the PR description guidelines and adhered to them.\n",
    "- [ ] Verify that the link is accessible in a private browser window.\n",
    "\n",
    "If you encounter any difficulties or have questions, please don't hesitate to reach out to our team via our Slack at `#cohort-3-help`. Our Technical Facilitators and Learning Support staff are here to help you navigate any challenges.\n"
   ]
  }
 ],
 "metadata": {
  "kernelspec": {
   "display_name": "base",
   "language": "python",
   "name": "python3"
  },
  "language_info": {
   "codemirror_mode": {
    "name": "ipython",
    "version": 3
   },
   "file_extension": ".py",
   "mimetype": "text/x-python",
   "name": "python",
   "nbconvert_exporter": "python",
   "pygments_lexer": "ipython3",
   "version": "3.12.3"
  }
 },
 "nbformat": 4,
 "nbformat_minor": 2
}
